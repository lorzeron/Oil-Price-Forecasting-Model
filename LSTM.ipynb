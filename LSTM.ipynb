{
 "cells": [
  {
   "cell_type": "code",
   "execution_count": 1,
   "metadata": {},
   "outputs": [],
   "source": [
    "import pandas as pd\n",
    "import numpy as np\n",
    "from sklearn.preprocessing import MinMaxScaler\n",
    "from nltk.sentiment import SentimentIntensityAnalyzer\n",
    "from tensorflow.keras.models import Sequential\n",
    "from tensorflow.keras.layers import LSTM, Dense, Dropout\n",
    "import matplotlib.pyplot as plt\n",
    "import nltk"
   ]
  },
  {
   "cell_type": "code",
   "execution_count": 2,
   "metadata": {},
   "outputs": [
    {
     "name": "stderr",
     "output_type": "stream",
     "text": [
      "[nltk_data] Downloading package vader_lexicon to\n",
      "[nltk_data]     C:\\Users\\Administrator\\AppData\\Roaming\\nltk_data...\n",
      "[nltk_data]   Package vader_lexicon is already up-to-date!\n"
     ]
    },
    {
     "data": {
      "text/plain": [
       "True"
      ]
     },
     "execution_count": 2,
     "metadata": {},
     "output_type": "execute_result"
    }
   ],
   "source": [
    "# Убедимся, что необходимые ресурсы загружены\n",
    "nltk.download('vader_lexicon')"
   ]
  },
  {
   "cell_type": "code",
   "execution_count": 3,
   "metadata": {},
   "outputs": [],
   "source": [
    "# Загрузка данных\n",
    "oil_price_path = 'BrentOilPrices.csv'\n",
    "news_path = 'news.csv'"
   ]
  },
  {
   "cell_type": "code",
   "execution_count": 4,
   "metadata": {},
   "outputs": [],
   "source": [
    "# Чтение данных\n",
    "oil_data = pd.read_csv(oil_price_path)\n",
    "news_data = pd.read_csv(news_path)"
   ]
  },
  {
   "cell_type": "code",
   "execution_count": 5,
   "metadata": {},
   "outputs": [],
   "source": [
    "# Изменение названия колонки в BrentOilPrices\n",
    "oil_data.rename(columns={'Data': 'date'}, inplace=True)"
   ]
  },
  {
   "cell_type": "code",
   "execution_count": 6,
   "metadata": {},
   "outputs": [],
   "source": [
    "# Приведение колонок к нижнему регистру\n",
    "oil_data.columns = oil_data.columns.str.lower()\n",
    "news_data.columns = news_data.columns.str.lower()"
   ]
  },
  {
   "cell_type": "code",
   "execution_count": 7,
   "metadata": {},
   "outputs": [
    {
     "name": "stderr",
     "output_type": "stream",
     "text": [
      "C:\\Users\\Administrator\\AppData\\Local\\Temp\\ipykernel_24796\\2511022803.py:2: UserWarning: Could not infer format, so each element will be parsed individually, falling back to `dateutil`. To ensure parsing is consistent and as-expected, please specify a format.\n",
      "  oil_data['date'] = pd.to_datetime(oil_data['date'], errors='coerce')\n"
     ]
    }
   ],
   "source": [
    "# Преобразование даты в формат datetime\n",
    "oil_data['date'] = pd.to_datetime(oil_data['date'], errors='coerce')\n",
    "news_data['date'] = pd.to_datetime(news_data['date'], errors='coerce')"
   ]
  },
  {
   "cell_type": "code",
   "execution_count": 8,
   "metadata": {},
   "outputs": [],
   "source": [
    "# Удаление времени из столбца date в news_data и oil_data\n",
    "news_data['date'] = news_data['date'].dt.date\n",
    "oil_data['date'] = oil_data['date'].dt.date"
   ]
  },
  {
   "cell_type": "code",
   "execution_count": 9,
   "metadata": {},
   "outputs": [],
   "source": [
    "# Удаление строк с некорректными датами\n",
    "oil_data = oil_data.dropna(subset=['date']).sort_values('date')\n",
    "news_data = news_data.dropna(subset=['date'])"
   ]
  },
  {
   "cell_type": "code",
   "execution_count": 10,
   "metadata": {},
   "outputs": [],
   "source": [
    "# Нормализация цен на нефть\n",
    "scaler = MinMaxScaler()\n",
    "oil_data['price'] = scaler.fit_transform(oil_data[['price']])"
   ]
  },
  {
   "cell_type": "code",
   "execution_count": 11,
   "metadata": {},
   "outputs": [],
   "source": [
    "# Анализ тональности текстов\n",
    "sia = SentimentIntensityAnalyzer()\n",
    "news_data['sentiment'] = news_data['text'].fillna(\"\").apply(lambda x: sia.polarity_scores(x)['compound'])"
   ]
  },
  {
   "cell_type": "code",
   "execution_count": 12,
   "metadata": {},
   "outputs": [
    {
     "name": "stdout",
     "output_type": "stream",
     "text": [
      "Oil data date range: (datetime.date(1987, 5, 20), datetime.date(2022, 11, 14))\n",
      "News data date range: (datetime.date(2018, 1, 4), datetime.date(2024, 3, 31))\n"
     ]
    }
   ],
   "source": [
    "# Проверка диапазона дат\n",
    "oil_date_range = (oil_data['date'].min(), oil_data['date'].max())\n",
    "news_date_range = (news_data['date'].min(), news_data['date'].max())\n",
    "print(f\"Oil data date range: {oil_date_range}\")\n",
    "print(f\"News data date range: {news_date_range}\")"
   ]
  },
  {
   "cell_type": "code",
   "execution_count": 13,
   "metadata": {},
   "outputs": [],
   "source": [
    "# Ограничение данных общим диапазоном дат\n",
    "common_start_date = max(oil_date_range[0], news_date_range[0])\n",
    "common_end_date = min(oil_date_range[1], news_date_range[1])\n",
    "\n",
    "oil_data_filtered = oil_data[(oil_data['date'] >= common_start_date) & (oil_data['date'] <= common_end_date)]\n",
    "news_data_filtered = news_data[(news_data['date'] >= common_start_date) & (news_data['date'] <= common_end_date)]"
   ]
  },
  {
   "cell_type": "code",
   "execution_count": 14,
   "metadata": {},
   "outputs": [],
   "source": [
    "# Объединение данных по дате\n",
    "merged_data = pd.merge(oil_data_filtered, news_data_filtered, on='date', how='inner')"
   ]
  },
  {
   "cell_type": "code",
   "execution_count": 15,
   "metadata": {},
   "outputs": [
    {
     "name": "stdout",
     "output_type": "stream",
     "text": [
      "Rows in merged data: 71128\n",
      "         date     price                                               text  \\\n",
      "0  2018-01-04  0.442195  Farmers will get subsidies for turning fields ...   \n",
      "1  2018-01-04  0.442195  Vanuatu bans non-biodegradable plastic to prot...   \n",
      "2  2018-01-04  0.442195  Ex-British PM Tony Blair ups calls for Labour ...   \n",
      "3  2018-01-04  0.442195  UK's Tony Blair argues voters deserve another ...   \n",
      "4  2018-01-04  0.442195  Germany had so much renewable energy over Chri...   \n",
      "\n",
      "     label  sentiment  \n",
      "0  politic    -0.7783  \n",
      "1  politic     0.2023  \n",
      "2  politic     0.1531  \n",
      "3  politic    -0.3818  \n",
      "4  politic    -0.0609  \n"
     ]
    }
   ],
   "source": [
    "# Проверка итогового объединенного датасета\n",
    "print(f\"Rows in merged data: {len(merged_data)}\")\n",
    "print(merged_data.head())"
   ]
  },
  {
   "cell_type": "code",
   "execution_count": 16,
   "metadata": {},
   "outputs": [],
   "source": [
    "# Подготовка данных для LSTM\n",
    "sequence_length = 30\n",
    "step = 1\n",
    "\n",
    "timeseries_data = merged_data['price'].values\n",
    "sentiment_data = merged_data['sentiment'].values\n",
    "\n",
    "X = []\n",
    "Y = []\n",
    "for i in range(0, len(timeseries_data) - sequence_length, step):\n",
    "    sequence = np.column_stack((timeseries_data[i:i + sequence_length], sentiment_data[i:i + sequence_length]))\n",
    "    X.append(sequence)\n",
    "    Y.append(timeseries_data[i + sequence_length])\n",
    "\n",
    "X = np.array(X)\n",
    "Y = np.array(Y)"
   ]
  },
  {
   "cell_type": "code",
   "execution_count": 17,
   "metadata": {},
   "outputs": [
    {
     "name": "stderr",
     "output_type": "stream",
     "text": [
      "c:\\Users\\Administrator\\AppData\\Local\\Programs\\Python\\Python312\\Lib\\site-packages\\keras\\src\\layers\\rnn\\rnn.py:204: UserWarning: Do not pass an `input_shape`/`input_dim` argument to a layer. When using Sequential models, prefer using an `Input(shape)` object as the first layer in the model instead.\n",
      "  super().__init__(**kwargs)\n"
     ]
    },
    {
     "name": "stdout",
     "output_type": "stream",
     "text": [
      "Fold 1: Mean Absolute Error = 0.006799550727009773\n",
      "Fold 2: Mean Absolute Error = 0.024383481591939926\n",
      "Fold 3: Mean Absolute Error = 0.011259524151682854\n",
      "Fold 4: Mean Absolute Error = 0.08027935028076172\n",
      "Fold 5: Mean Absolute Error = 0.01282407809048891\n"
     ]
    }
   ],
   "source": [
    "# Walk-Forward Validation\n",
    "n_splits = 5\n",
    "split_size = len(X) // n_splits\n",
    "\n",
    "all_mae = []\n",
    "for i in range(n_splits):\n",
    "    # Определение обучающей и тестовой выборки для текущего фолда\n",
    "    train_end = split_size * (i + 1)\n",
    "    X_train, X_test = X[:train_end], X[train_end:]\n",
    "    Y_train, Y_test = Y[:train_end], Y[train_end:]\n",
    "\n",
    "    if len(X_test) == 0:\n",
    "        break\n",
    "\n",
    "    # Построение модели LSTM\n",
    "    model = Sequential([\n",
    "        LSTM(64, return_sequences=True, input_shape=(sequence_length, 2)),\n",
    "        Dropout(0.2),\n",
    "        LSTM(64, return_sequences=False),\n",
    "        Dropout(0.2),\n",
    "        Dense(32, activation='relu'),\n",
    "        Dense(1)\n",
    "    ])\n",
    "\n",
    "    model.compile(optimizer='adam', loss='mean_squared_error', metrics=['mae'])\n",
    "\n",
    "    # Обучение модели\n",
    "    history = model.fit(\n",
    "        X_train, Y_train,\n",
    "        epochs=5,\n",
    "        batch_size=32,\n",
    "        verbose=0\n",
    "    )\n",
    "\n",
    "    # Оценка модели\n",
    "    loss, mae = model.evaluate(X_test, Y_test, verbose=0)\n",
    "    all_mae.append(mae)\n",
    "    print(f\"Fold {i + 1}: Mean Absolute Error = {mae}\")"
   ]
  },
  {
   "cell_type": "code",
   "execution_count": 18,
   "metadata": {},
   "outputs": [
    {
     "name": "stdout",
     "output_type": "stream",
     "text": [
      "Average MAE across all folds: 0.027109196968376638\n"
     ]
    }
   ],
   "source": [
    "# Средняя ошибка по всем фолдам\n",
    "print(f\"Average MAE across all folds: {np.mean(all_mae)}\")"
   ]
  },
  {
   "cell_type": "code",
   "execution_count": 19,
   "metadata": {},
   "outputs": [
    {
     "name": "stdout",
     "output_type": "stream",
     "text": [
      "\u001b[1m1/1\u001b[0m \u001b[32m━━━━━━━━━━━━━━━━━━━━\u001b[0m\u001b[37m\u001b[0m \u001b[1m0s\u001b[0m 192ms/step\n"
     ]
    },
    {
     "data": {
      "image/png": "[encoded data removed]",
      "text/plain": [
       "<Figure size 1200x600 with 1 Axes>"
      ]
     },
     "metadata": {},
     "output_type": "display_data"
    }
   ],
   "source": [
    "# Визуализация прогнозов последнего фолда\n",
    "predicted_prices = model.predict(X_test)\n",
    "\n",
    "plt.figure(figsize=(12, 6))\n",
    "plt.plot(Y_test, label='True Prices', color='blue')\n",
    "plt.plot(predicted_prices, label='Predicted Prices', color='orange')\n",
    "plt.title('True vs Predicted Prices (Last Fold)')\n",
    "plt.xlabel('Time Step')\n",
    "plt.ylabel('Normalized Price')\n",
    "plt.legend()\n",
    "plt.grid()\n",
    "plt.show()"
   ]
  }
 ],
 "metadata": {
  "kernelspec": {
   "display_name": "Python 3",
   "language": "python",
   "name": "python3"
  },
  "language_info": {
   "codemirror_mode": {
    "name": "ipython",
    "version": 3
   },
   "file_extension": ".py",
   "mimetype": "text/x-python",
   "name": "python",
   "nbconvert_exporter": "python",
   "pygments_lexer": "ipython3",
   "version": "3.12.6"
  }
 },
 "nbformat": 4,
 "nbformat_minor": 4
}
